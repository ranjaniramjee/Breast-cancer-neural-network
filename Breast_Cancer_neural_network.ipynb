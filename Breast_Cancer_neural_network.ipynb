{
 "cells": [
  {
   "cell_type": "markdown",
   "metadata": {},
   "source": [
    "# Breast Cancer patients with Malignant and Benign tumor\n",
    "\n",
    "* Objective : To build a model to find whether breast cancer patient is suffering with Malignant and Benign tumor \n",
    "* Data Source: data.csv"
   ]
  },
  {
   "cell_type": "markdown",
   "metadata": {},
   "source": [
    "#### Importing required libraries"
   ]
  },
  {
   "cell_type": "code",
   "execution_count": 34,
   "metadata": {},
   "outputs": [],
   "source": [
    "# performing linear algebra \n",
    "import numpy as np  \n",
    "# data processing \n",
    "import pandas as pd \n",
    "# visualisation \n",
    "import matplotlib.pyplot as plt \n",
    "import seaborn as sns\n",
    "#Pre-processing\n",
    "from sklearn.preprocessing import StandardScaler\n",
    "#from sklearn.neural_network\n",
    "from sklearn.model_selection import train_test_split\n",
    "from sklearn.model_selection import GridSearchCV\n",
    "from sklearn.neural_network import MLPClassifier\n",
    "from sklearn.decomposition import PCA\n",
    "from sklearn.metrics import accuracy_score, precision_score, recall_score\n",
    "from sklearn.metrics import classification_report, confusion_matrix, accuracy_score\n",
    "\n",
    "\n",
    "from keras.models import Sequential\n",
    "from keras.layers import Dense\n",
    "from keras.layers import Dropout\n",
    "\n",
    "from sklearn.metrics import confusion_matrix\n",
    "from sklearn.metrics import f1_score"
   ]
  },
  {
   "cell_type": "markdown",
   "metadata": {},
   "source": [
    "#### Reading the diabetes dataset :"
   ]
  },
  {
   "cell_type": "code",
   "execution_count": 35,
   "metadata": {},
   "outputs": [
    {
     "data": {
      "text/html": [
       "<div>\n",
       "<style scoped>\n",
       "    .dataframe tbody tr th:only-of-type {\n",
       "        vertical-align: middle;\n",
       "    }\n",
       "\n",
       "    .dataframe tbody tr th {\n",
       "        vertical-align: top;\n",
       "    }\n",
       "\n",
       "    .dataframe thead th {\n",
       "        text-align: right;\n",
       "    }\n",
       "</style>\n",
       "<table border=\"1\" class=\"dataframe\">\n",
       "  <thead>\n",
       "    <tr style=\"text-align: right;\">\n",
       "      <th></th>\n",
       "      <th>id</th>\n",
       "      <th>diagnosis</th>\n",
       "      <th>radius_mean</th>\n",
       "      <th>texture_mean</th>\n",
       "      <th>perimeter_mean</th>\n",
       "      <th>area_mean</th>\n",
       "      <th>smoothness_mean</th>\n",
       "      <th>compactness_mean</th>\n",
       "      <th>concavity_mean</th>\n",
       "      <th>concave points_mean</th>\n",
       "      <th>...</th>\n",
       "      <th>texture_worst</th>\n",
       "      <th>perimeter_worst</th>\n",
       "      <th>area_worst</th>\n",
       "      <th>smoothness_worst</th>\n",
       "      <th>compactness_worst</th>\n",
       "      <th>concavity_worst</th>\n",
       "      <th>concave points_worst</th>\n",
       "      <th>symmetry_worst</th>\n",
       "      <th>fractal_dimension_worst</th>\n",
       "      <th>Unnamed: 32</th>\n",
       "    </tr>\n",
       "  </thead>\n",
       "  <tbody>\n",
       "    <tr>\n",
       "      <th>0</th>\n",
       "      <td>842302</td>\n",
       "      <td>M</td>\n",
       "      <td>17.99</td>\n",
       "      <td>10.38</td>\n",
       "      <td>122.80</td>\n",
       "      <td>1001.0</td>\n",
       "      <td>0.11840</td>\n",
       "      <td>0.27760</td>\n",
       "      <td>0.30010</td>\n",
       "      <td>0.14710</td>\n",
       "      <td>...</td>\n",
       "      <td>17.33</td>\n",
       "      <td>184.60</td>\n",
       "      <td>2019.0</td>\n",
       "      <td>0.1622</td>\n",
       "      <td>0.6656</td>\n",
       "      <td>0.7119</td>\n",
       "      <td>0.2654</td>\n",
       "      <td>0.4601</td>\n",
       "      <td>0.11890</td>\n",
       "      <td>NaN</td>\n",
       "    </tr>\n",
       "    <tr>\n",
       "      <th>1</th>\n",
       "      <td>842517</td>\n",
       "      <td>M</td>\n",
       "      <td>20.57</td>\n",
       "      <td>17.77</td>\n",
       "      <td>132.90</td>\n",
       "      <td>1326.0</td>\n",
       "      <td>0.08474</td>\n",
       "      <td>0.07864</td>\n",
       "      <td>0.08690</td>\n",
       "      <td>0.07017</td>\n",
       "      <td>...</td>\n",
       "      <td>23.41</td>\n",
       "      <td>158.80</td>\n",
       "      <td>1956.0</td>\n",
       "      <td>0.1238</td>\n",
       "      <td>0.1866</td>\n",
       "      <td>0.2416</td>\n",
       "      <td>0.1860</td>\n",
       "      <td>0.2750</td>\n",
       "      <td>0.08902</td>\n",
       "      <td>NaN</td>\n",
       "    </tr>\n",
       "    <tr>\n",
       "      <th>2</th>\n",
       "      <td>84300903</td>\n",
       "      <td>M</td>\n",
       "      <td>19.69</td>\n",
       "      <td>21.25</td>\n",
       "      <td>130.00</td>\n",
       "      <td>1203.0</td>\n",
       "      <td>0.10960</td>\n",
       "      <td>0.15990</td>\n",
       "      <td>0.19740</td>\n",
       "      <td>0.12790</td>\n",
       "      <td>...</td>\n",
       "      <td>25.53</td>\n",
       "      <td>152.50</td>\n",
       "      <td>1709.0</td>\n",
       "      <td>0.1444</td>\n",
       "      <td>0.4245</td>\n",
       "      <td>0.4504</td>\n",
       "      <td>0.2430</td>\n",
       "      <td>0.3613</td>\n",
       "      <td>0.08758</td>\n",
       "      <td>NaN</td>\n",
       "    </tr>\n",
       "    <tr>\n",
       "      <th>3</th>\n",
       "      <td>84348301</td>\n",
       "      <td>M</td>\n",
       "      <td>11.42</td>\n",
       "      <td>20.38</td>\n",
       "      <td>77.58</td>\n",
       "      <td>386.1</td>\n",
       "      <td>0.14250</td>\n",
       "      <td>0.28390</td>\n",
       "      <td>0.24140</td>\n",
       "      <td>0.10520</td>\n",
       "      <td>...</td>\n",
       "      <td>26.50</td>\n",
       "      <td>98.87</td>\n",
       "      <td>567.7</td>\n",
       "      <td>0.2098</td>\n",
       "      <td>0.8663</td>\n",
       "      <td>0.6869</td>\n",
       "      <td>0.2575</td>\n",
       "      <td>0.6638</td>\n",
       "      <td>0.17300</td>\n",
       "      <td>NaN</td>\n",
       "    </tr>\n",
       "    <tr>\n",
       "      <th>4</th>\n",
       "      <td>84358402</td>\n",
       "      <td>M</td>\n",
       "      <td>20.29</td>\n",
       "      <td>14.34</td>\n",
       "      <td>135.10</td>\n",
       "      <td>1297.0</td>\n",
       "      <td>0.10030</td>\n",
       "      <td>0.13280</td>\n",
       "      <td>0.19800</td>\n",
       "      <td>0.10430</td>\n",
       "      <td>...</td>\n",
       "      <td>16.67</td>\n",
       "      <td>152.20</td>\n",
       "      <td>1575.0</td>\n",
       "      <td>0.1374</td>\n",
       "      <td>0.2050</td>\n",
       "      <td>0.4000</td>\n",
       "      <td>0.1625</td>\n",
       "      <td>0.2364</td>\n",
       "      <td>0.07678</td>\n",
       "      <td>NaN</td>\n",
       "    </tr>\n",
       "    <tr>\n",
       "      <th>5</th>\n",
       "      <td>843786</td>\n",
       "      <td>M</td>\n",
       "      <td>12.45</td>\n",
       "      <td>15.70</td>\n",
       "      <td>82.57</td>\n",
       "      <td>477.1</td>\n",
       "      <td>0.12780</td>\n",
       "      <td>0.17000</td>\n",
       "      <td>0.15780</td>\n",
       "      <td>0.08089</td>\n",
       "      <td>...</td>\n",
       "      <td>23.75</td>\n",
       "      <td>103.40</td>\n",
       "      <td>741.6</td>\n",
       "      <td>0.1791</td>\n",
       "      <td>0.5249</td>\n",
       "      <td>0.5355</td>\n",
       "      <td>0.1741</td>\n",
       "      <td>0.3985</td>\n",
       "      <td>0.12440</td>\n",
       "      <td>NaN</td>\n",
       "    </tr>\n",
       "    <tr>\n",
       "      <th>6</th>\n",
       "      <td>844359</td>\n",
       "      <td>M</td>\n",
       "      <td>18.25</td>\n",
       "      <td>19.98</td>\n",
       "      <td>119.60</td>\n",
       "      <td>1040.0</td>\n",
       "      <td>0.09463</td>\n",
       "      <td>0.10900</td>\n",
       "      <td>0.11270</td>\n",
       "      <td>0.07400</td>\n",
       "      <td>...</td>\n",
       "      <td>27.66</td>\n",
       "      <td>153.20</td>\n",
       "      <td>1606.0</td>\n",
       "      <td>0.1442</td>\n",
       "      <td>0.2576</td>\n",
       "      <td>0.3784</td>\n",
       "      <td>0.1932</td>\n",
       "      <td>0.3063</td>\n",
       "      <td>0.08368</td>\n",
       "      <td>NaN</td>\n",
       "    </tr>\n",
       "    <tr>\n",
       "      <th>7</th>\n",
       "      <td>84458202</td>\n",
       "      <td>M</td>\n",
       "      <td>13.71</td>\n",
       "      <td>20.83</td>\n",
       "      <td>90.20</td>\n",
       "      <td>577.9</td>\n",
       "      <td>0.11890</td>\n",
       "      <td>0.16450</td>\n",
       "      <td>0.09366</td>\n",
       "      <td>0.05985</td>\n",
       "      <td>...</td>\n",
       "      <td>28.14</td>\n",
       "      <td>110.60</td>\n",
       "      <td>897.0</td>\n",
       "      <td>0.1654</td>\n",
       "      <td>0.3682</td>\n",
       "      <td>0.2678</td>\n",
       "      <td>0.1556</td>\n",
       "      <td>0.3196</td>\n",
       "      <td>0.11510</td>\n",
       "      <td>NaN</td>\n",
       "    </tr>\n",
       "    <tr>\n",
       "      <th>8</th>\n",
       "      <td>844981</td>\n",
       "      <td>M</td>\n",
       "      <td>13.00</td>\n",
       "      <td>21.82</td>\n",
       "      <td>87.50</td>\n",
       "      <td>519.8</td>\n",
       "      <td>0.12730</td>\n",
       "      <td>0.19320</td>\n",
       "      <td>0.18590</td>\n",
       "      <td>0.09353</td>\n",
       "      <td>...</td>\n",
       "      <td>30.73</td>\n",
       "      <td>106.20</td>\n",
       "      <td>739.3</td>\n",
       "      <td>0.1703</td>\n",
       "      <td>0.5401</td>\n",
       "      <td>0.5390</td>\n",
       "      <td>0.2060</td>\n",
       "      <td>0.4378</td>\n",
       "      <td>0.10720</td>\n",
       "      <td>NaN</td>\n",
       "    </tr>\n",
       "    <tr>\n",
       "      <th>9</th>\n",
       "      <td>84501001</td>\n",
       "      <td>M</td>\n",
       "      <td>12.46</td>\n",
       "      <td>24.04</td>\n",
       "      <td>83.97</td>\n",
       "      <td>475.9</td>\n",
       "      <td>0.11860</td>\n",
       "      <td>0.23960</td>\n",
       "      <td>0.22730</td>\n",
       "      <td>0.08543</td>\n",
       "      <td>...</td>\n",
       "      <td>40.68</td>\n",
       "      <td>97.65</td>\n",
       "      <td>711.4</td>\n",
       "      <td>0.1853</td>\n",
       "      <td>1.0580</td>\n",
       "      <td>1.1050</td>\n",
       "      <td>0.2210</td>\n",
       "      <td>0.4366</td>\n",
       "      <td>0.20750</td>\n",
       "      <td>NaN</td>\n",
       "    </tr>\n",
       "  </tbody>\n",
       "</table>\n",
       "<p>10 rows × 33 columns</p>\n",
       "</div>"
      ],
      "text/plain": [
       "         id diagnosis  radius_mean  texture_mean  perimeter_mean  area_mean  \\\n",
       "0    842302         M        17.99         10.38          122.80     1001.0   \n",
       "1    842517         M        20.57         17.77          132.90     1326.0   \n",
       "2  84300903         M        19.69         21.25          130.00     1203.0   \n",
       "3  84348301         M        11.42         20.38           77.58      386.1   \n",
       "4  84358402         M        20.29         14.34          135.10     1297.0   \n",
       "5    843786         M        12.45         15.70           82.57      477.1   \n",
       "6    844359         M        18.25         19.98          119.60     1040.0   \n",
       "7  84458202         M        13.71         20.83           90.20      577.9   \n",
       "8    844981         M        13.00         21.82           87.50      519.8   \n",
       "9  84501001         M        12.46         24.04           83.97      475.9   \n",
       "\n",
       "   smoothness_mean  compactness_mean  concavity_mean  concave points_mean  \\\n",
       "0          0.11840           0.27760         0.30010              0.14710   \n",
       "1          0.08474           0.07864         0.08690              0.07017   \n",
       "2          0.10960           0.15990         0.19740              0.12790   \n",
       "3          0.14250           0.28390         0.24140              0.10520   \n",
       "4          0.10030           0.13280         0.19800              0.10430   \n",
       "5          0.12780           0.17000         0.15780              0.08089   \n",
       "6          0.09463           0.10900         0.11270              0.07400   \n",
       "7          0.11890           0.16450         0.09366              0.05985   \n",
       "8          0.12730           0.19320         0.18590              0.09353   \n",
       "9          0.11860           0.23960         0.22730              0.08543   \n",
       "\n",
       "   ...  texture_worst  perimeter_worst  area_worst  smoothness_worst  \\\n",
       "0  ...          17.33           184.60      2019.0            0.1622   \n",
       "1  ...          23.41           158.80      1956.0            0.1238   \n",
       "2  ...          25.53           152.50      1709.0            0.1444   \n",
       "3  ...          26.50            98.87       567.7            0.2098   \n",
       "4  ...          16.67           152.20      1575.0            0.1374   \n",
       "5  ...          23.75           103.40       741.6            0.1791   \n",
       "6  ...          27.66           153.20      1606.0            0.1442   \n",
       "7  ...          28.14           110.60       897.0            0.1654   \n",
       "8  ...          30.73           106.20       739.3            0.1703   \n",
       "9  ...          40.68            97.65       711.4            0.1853   \n",
       "\n",
       "   compactness_worst  concavity_worst  concave points_worst  symmetry_worst  \\\n",
       "0             0.6656           0.7119                0.2654          0.4601   \n",
       "1             0.1866           0.2416                0.1860          0.2750   \n",
       "2             0.4245           0.4504                0.2430          0.3613   \n",
       "3             0.8663           0.6869                0.2575          0.6638   \n",
       "4             0.2050           0.4000                0.1625          0.2364   \n",
       "5             0.5249           0.5355                0.1741          0.3985   \n",
       "6             0.2576           0.3784                0.1932          0.3063   \n",
       "7             0.3682           0.2678                0.1556          0.3196   \n",
       "8             0.5401           0.5390                0.2060          0.4378   \n",
       "9             1.0580           1.1050                0.2210          0.4366   \n",
       "\n",
       "   fractal_dimension_worst  Unnamed: 32  \n",
       "0                  0.11890          NaN  \n",
       "1                  0.08902          NaN  \n",
       "2                  0.08758          NaN  \n",
       "3                  0.17300          NaN  \n",
       "4                  0.07678          NaN  \n",
       "5                  0.12440          NaN  \n",
       "6                  0.08368          NaN  \n",
       "7                  0.11510          NaN  \n",
       "8                  0.10720          NaN  \n",
       "9                  0.20750          NaN  \n",
       "\n",
       "[10 rows x 33 columns]"
      ]
     },
     "execution_count": 35,
     "metadata": {},
     "output_type": "execute_result"
    }
   ],
   "source": [
    "#displaying first 10 rows of the data.\n",
    "df = pd.read_csv(\"data.csv\")   \n",
    "df.head(10)"
   ]
  },
  {
   "cell_type": "code",
   "execution_count": 36,
   "metadata": {},
   "outputs": [
    {
     "name": "stdout",
     "output_type": "stream",
     "text": [
      "<class 'pandas.core.frame.DataFrame'>\n",
      "RangeIndex: 569 entries, 0 to 568\n",
      "Data columns (total 33 columns):\n",
      " #   Column                   Non-Null Count  Dtype  \n",
      "---  ------                   --------------  -----  \n",
      " 0   id                       569 non-null    int64  \n",
      " 1   diagnosis                569 non-null    object \n",
      " 2   radius_mean              569 non-null    float64\n",
      " 3   texture_mean             569 non-null    float64\n",
      " 4   perimeter_mean           569 non-null    float64\n",
      " 5   area_mean                569 non-null    float64\n",
      " 6   smoothness_mean          569 non-null    float64\n",
      " 7   compactness_mean         569 non-null    float64\n",
      " 8   concavity_mean           569 non-null    float64\n",
      " 9   concave points_mean      569 non-null    float64\n",
      " 10  symmetry_mean            569 non-null    float64\n",
      " 11  fractal_dimension_mean   569 non-null    float64\n",
      " 12  radius_se                569 non-null    float64\n",
      " 13  texture_se               569 non-null    float64\n",
      " 14  perimeter_se             569 non-null    float64\n",
      " 15  area_se                  569 non-null    float64\n",
      " 16  smoothness_se            569 non-null    float64\n",
      " 17  compactness_se           569 non-null    float64\n",
      " 18  concavity_se             569 non-null    float64\n",
      " 19  concave points_se        569 non-null    float64\n",
      " 20  symmetry_se              569 non-null    float64\n",
      " 21  fractal_dimension_se     569 non-null    float64\n",
      " 22  radius_worst             569 non-null    float64\n",
      " 23  texture_worst            569 non-null    float64\n",
      " 24  perimeter_worst          569 non-null    float64\n",
      " 25  area_worst               569 non-null    float64\n",
      " 26  smoothness_worst         569 non-null    float64\n",
      " 27  compactness_worst        569 non-null    float64\n",
      " 28  concavity_worst          569 non-null    float64\n",
      " 29  concave points_worst     569 non-null    float64\n",
      " 30  symmetry_worst           569 non-null    float64\n",
      " 31  fractal_dimension_worst  569 non-null    float64\n",
      " 32  Unnamed: 32              0 non-null      float64\n",
      "dtypes: float64(31), int64(1), object(1)\n",
      "memory usage: 146.8+ KB\n"
     ]
    }
   ],
   "source": [
    "df.info() "
   ]
  },
  {
   "cell_type": "markdown",
   "metadata": {},
   "source": [
    "#### Describing the dataset : "
   ]
  },
  {
   "cell_type": "code",
   "execution_count": 37,
   "metadata": {},
   "outputs": [
    {
     "data": {
      "text/plain": [
       "(569, 33)"
      ]
     },
     "execution_count": 37,
     "metadata": {},
     "output_type": "execute_result"
    }
   ],
   "source": [
    "df.shape"
   ]
  },
  {
   "cell_type": "code",
   "execution_count": 38,
   "metadata": {},
   "outputs": [
    {
     "data": {
      "text/html": [
       "<div>\n",
       "<style scoped>\n",
       "    .dataframe tbody tr th:only-of-type {\n",
       "        vertical-align: middle;\n",
       "    }\n",
       "\n",
       "    .dataframe tbody tr th {\n",
       "        vertical-align: top;\n",
       "    }\n",
       "\n",
       "    .dataframe thead th {\n",
       "        text-align: right;\n",
       "    }\n",
       "</style>\n",
       "<table border=\"1\" class=\"dataframe\">\n",
       "  <thead>\n",
       "    <tr style=\"text-align: right;\">\n",
       "      <th></th>\n",
       "      <th>id</th>\n",
       "      <th>radius_mean</th>\n",
       "      <th>texture_mean</th>\n",
       "      <th>perimeter_mean</th>\n",
       "      <th>area_mean</th>\n",
       "      <th>smoothness_mean</th>\n",
       "      <th>compactness_mean</th>\n",
       "      <th>concavity_mean</th>\n",
       "      <th>concave points_mean</th>\n",
       "      <th>symmetry_mean</th>\n",
       "      <th>...</th>\n",
       "      <th>texture_worst</th>\n",
       "      <th>perimeter_worst</th>\n",
       "      <th>area_worst</th>\n",
       "      <th>smoothness_worst</th>\n",
       "      <th>compactness_worst</th>\n",
       "      <th>concavity_worst</th>\n",
       "      <th>concave points_worst</th>\n",
       "      <th>symmetry_worst</th>\n",
       "      <th>fractal_dimension_worst</th>\n",
       "      <th>Unnamed: 32</th>\n",
       "    </tr>\n",
       "  </thead>\n",
       "  <tbody>\n",
       "    <tr>\n",
       "      <th>count</th>\n",
       "      <td>5.690000e+02</td>\n",
       "      <td>569.000000</td>\n",
       "      <td>569.000000</td>\n",
       "      <td>569.000000</td>\n",
       "      <td>569.000000</td>\n",
       "      <td>569.000000</td>\n",
       "      <td>569.000000</td>\n",
       "      <td>569.000000</td>\n",
       "      <td>569.000000</td>\n",
       "      <td>569.000000</td>\n",
       "      <td>...</td>\n",
       "      <td>569.000000</td>\n",
       "      <td>569.000000</td>\n",
       "      <td>569.000000</td>\n",
       "      <td>569.000000</td>\n",
       "      <td>569.000000</td>\n",
       "      <td>569.000000</td>\n",
       "      <td>569.000000</td>\n",
       "      <td>569.000000</td>\n",
       "      <td>569.000000</td>\n",
       "      <td>0.0</td>\n",
       "    </tr>\n",
       "    <tr>\n",
       "      <th>mean</th>\n",
       "      <td>3.037183e+07</td>\n",
       "      <td>14.127292</td>\n",
       "      <td>19.289649</td>\n",
       "      <td>91.969033</td>\n",
       "      <td>654.889104</td>\n",
       "      <td>0.096360</td>\n",
       "      <td>0.104341</td>\n",
       "      <td>0.088799</td>\n",
       "      <td>0.048919</td>\n",
       "      <td>0.181162</td>\n",
       "      <td>...</td>\n",
       "      <td>25.677223</td>\n",
       "      <td>107.261213</td>\n",
       "      <td>880.583128</td>\n",
       "      <td>0.132369</td>\n",
       "      <td>0.254265</td>\n",
       "      <td>0.272188</td>\n",
       "      <td>0.114606</td>\n",
       "      <td>0.290076</td>\n",
       "      <td>0.083946</td>\n",
       "      <td>NaN</td>\n",
       "    </tr>\n",
       "    <tr>\n",
       "      <th>std</th>\n",
       "      <td>1.250206e+08</td>\n",
       "      <td>3.524049</td>\n",
       "      <td>4.301036</td>\n",
       "      <td>24.298981</td>\n",
       "      <td>351.914129</td>\n",
       "      <td>0.014064</td>\n",
       "      <td>0.052813</td>\n",
       "      <td>0.079720</td>\n",
       "      <td>0.038803</td>\n",
       "      <td>0.027414</td>\n",
       "      <td>...</td>\n",
       "      <td>6.146258</td>\n",
       "      <td>33.602542</td>\n",
       "      <td>569.356993</td>\n",
       "      <td>0.022832</td>\n",
       "      <td>0.157336</td>\n",
       "      <td>0.208624</td>\n",
       "      <td>0.065732</td>\n",
       "      <td>0.061867</td>\n",
       "      <td>0.018061</td>\n",
       "      <td>NaN</td>\n",
       "    </tr>\n",
       "    <tr>\n",
       "      <th>min</th>\n",
       "      <td>8.670000e+03</td>\n",
       "      <td>6.981000</td>\n",
       "      <td>9.710000</td>\n",
       "      <td>43.790000</td>\n",
       "      <td>143.500000</td>\n",
       "      <td>0.052630</td>\n",
       "      <td>0.019380</td>\n",
       "      <td>0.000000</td>\n",
       "      <td>0.000000</td>\n",
       "      <td>0.106000</td>\n",
       "      <td>...</td>\n",
       "      <td>12.020000</td>\n",
       "      <td>50.410000</td>\n",
       "      <td>185.200000</td>\n",
       "      <td>0.071170</td>\n",
       "      <td>0.027290</td>\n",
       "      <td>0.000000</td>\n",
       "      <td>0.000000</td>\n",
       "      <td>0.156500</td>\n",
       "      <td>0.055040</td>\n",
       "      <td>NaN</td>\n",
       "    </tr>\n",
       "    <tr>\n",
       "      <th>25%</th>\n",
       "      <td>8.692180e+05</td>\n",
       "      <td>11.700000</td>\n",
       "      <td>16.170000</td>\n",
       "      <td>75.170000</td>\n",
       "      <td>420.300000</td>\n",
       "      <td>0.086370</td>\n",
       "      <td>0.064920</td>\n",
       "      <td>0.029560</td>\n",
       "      <td>0.020310</td>\n",
       "      <td>0.161900</td>\n",
       "      <td>...</td>\n",
       "      <td>21.080000</td>\n",
       "      <td>84.110000</td>\n",
       "      <td>515.300000</td>\n",
       "      <td>0.116600</td>\n",
       "      <td>0.147200</td>\n",
       "      <td>0.114500</td>\n",
       "      <td>0.064930</td>\n",
       "      <td>0.250400</td>\n",
       "      <td>0.071460</td>\n",
       "      <td>NaN</td>\n",
       "    </tr>\n",
       "    <tr>\n",
       "      <th>50%</th>\n",
       "      <td>9.060240e+05</td>\n",
       "      <td>13.370000</td>\n",
       "      <td>18.840000</td>\n",
       "      <td>86.240000</td>\n",
       "      <td>551.100000</td>\n",
       "      <td>0.095870</td>\n",
       "      <td>0.092630</td>\n",
       "      <td>0.061540</td>\n",
       "      <td>0.033500</td>\n",
       "      <td>0.179200</td>\n",
       "      <td>...</td>\n",
       "      <td>25.410000</td>\n",
       "      <td>97.660000</td>\n",
       "      <td>686.500000</td>\n",
       "      <td>0.131300</td>\n",
       "      <td>0.211900</td>\n",
       "      <td>0.226700</td>\n",
       "      <td>0.099930</td>\n",
       "      <td>0.282200</td>\n",
       "      <td>0.080040</td>\n",
       "      <td>NaN</td>\n",
       "    </tr>\n",
       "    <tr>\n",
       "      <th>75%</th>\n",
       "      <td>8.813129e+06</td>\n",
       "      <td>15.780000</td>\n",
       "      <td>21.800000</td>\n",
       "      <td>104.100000</td>\n",
       "      <td>782.700000</td>\n",
       "      <td>0.105300</td>\n",
       "      <td>0.130400</td>\n",
       "      <td>0.130700</td>\n",
       "      <td>0.074000</td>\n",
       "      <td>0.195700</td>\n",
       "      <td>...</td>\n",
       "      <td>29.720000</td>\n",
       "      <td>125.400000</td>\n",
       "      <td>1084.000000</td>\n",
       "      <td>0.146000</td>\n",
       "      <td>0.339100</td>\n",
       "      <td>0.382900</td>\n",
       "      <td>0.161400</td>\n",
       "      <td>0.317900</td>\n",
       "      <td>0.092080</td>\n",
       "      <td>NaN</td>\n",
       "    </tr>\n",
       "    <tr>\n",
       "      <th>max</th>\n",
       "      <td>9.113205e+08</td>\n",
       "      <td>28.110000</td>\n",
       "      <td>39.280000</td>\n",
       "      <td>188.500000</td>\n",
       "      <td>2501.000000</td>\n",
       "      <td>0.163400</td>\n",
       "      <td>0.345400</td>\n",
       "      <td>0.426800</td>\n",
       "      <td>0.201200</td>\n",
       "      <td>0.304000</td>\n",
       "      <td>...</td>\n",
       "      <td>49.540000</td>\n",
       "      <td>251.200000</td>\n",
       "      <td>4254.000000</td>\n",
       "      <td>0.222600</td>\n",
       "      <td>1.058000</td>\n",
       "      <td>1.252000</td>\n",
       "      <td>0.291000</td>\n",
       "      <td>0.663800</td>\n",
       "      <td>0.207500</td>\n",
       "      <td>NaN</td>\n",
       "    </tr>\n",
       "  </tbody>\n",
       "</table>\n",
       "<p>8 rows × 32 columns</p>\n",
       "</div>"
      ],
      "text/plain": [
       "                 id  radius_mean  texture_mean  perimeter_mean    area_mean  \\\n",
       "count  5.690000e+02   569.000000    569.000000      569.000000   569.000000   \n",
       "mean   3.037183e+07    14.127292     19.289649       91.969033   654.889104   \n",
       "std    1.250206e+08     3.524049      4.301036       24.298981   351.914129   \n",
       "min    8.670000e+03     6.981000      9.710000       43.790000   143.500000   \n",
       "25%    8.692180e+05    11.700000     16.170000       75.170000   420.300000   \n",
       "50%    9.060240e+05    13.370000     18.840000       86.240000   551.100000   \n",
       "75%    8.813129e+06    15.780000     21.800000      104.100000   782.700000   \n",
       "max    9.113205e+08    28.110000     39.280000      188.500000  2501.000000   \n",
       "\n",
       "       smoothness_mean  compactness_mean  concavity_mean  concave points_mean  \\\n",
       "count       569.000000        569.000000      569.000000           569.000000   \n",
       "mean          0.096360          0.104341        0.088799             0.048919   \n",
       "std           0.014064          0.052813        0.079720             0.038803   \n",
       "min           0.052630          0.019380        0.000000             0.000000   \n",
       "25%           0.086370          0.064920        0.029560             0.020310   \n",
       "50%           0.095870          0.092630        0.061540             0.033500   \n",
       "75%           0.105300          0.130400        0.130700             0.074000   \n",
       "max           0.163400          0.345400        0.426800             0.201200   \n",
       "\n",
       "       symmetry_mean  ...  texture_worst  perimeter_worst   area_worst  \\\n",
       "count     569.000000  ...     569.000000       569.000000   569.000000   \n",
       "mean        0.181162  ...      25.677223       107.261213   880.583128   \n",
       "std         0.027414  ...       6.146258        33.602542   569.356993   \n",
       "min         0.106000  ...      12.020000        50.410000   185.200000   \n",
       "25%         0.161900  ...      21.080000        84.110000   515.300000   \n",
       "50%         0.179200  ...      25.410000        97.660000   686.500000   \n",
       "75%         0.195700  ...      29.720000       125.400000  1084.000000   \n",
       "max         0.304000  ...      49.540000       251.200000  4254.000000   \n",
       "\n",
       "       smoothness_worst  compactness_worst  concavity_worst  \\\n",
       "count        569.000000         569.000000       569.000000   \n",
       "mean           0.132369           0.254265         0.272188   \n",
       "std            0.022832           0.157336         0.208624   \n",
       "min            0.071170           0.027290         0.000000   \n",
       "25%            0.116600           0.147200         0.114500   \n",
       "50%            0.131300           0.211900         0.226700   \n",
       "75%            0.146000           0.339100         0.382900   \n",
       "max            0.222600           1.058000         1.252000   \n",
       "\n",
       "       concave points_worst  symmetry_worst  fractal_dimension_worst  \\\n",
       "count            569.000000      569.000000               569.000000   \n",
       "mean               0.114606        0.290076                 0.083946   \n",
       "std                0.065732        0.061867                 0.018061   \n",
       "min                0.000000        0.156500                 0.055040   \n",
       "25%                0.064930        0.250400                 0.071460   \n",
       "50%                0.099930        0.282200                 0.080040   \n",
       "75%                0.161400        0.317900                 0.092080   \n",
       "max                0.291000        0.663800                 0.207500   \n",
       "\n",
       "       Unnamed: 32  \n",
       "count          0.0  \n",
       "mean           NaN  \n",
       "std            NaN  \n",
       "min            NaN  \n",
       "25%            NaN  \n",
       "50%            NaN  \n",
       "75%            NaN  \n",
       "max            NaN  \n",
       "\n",
       "[8 rows x 32 columns]"
      ]
     },
     "execution_count": 38,
     "metadata": {},
     "output_type": "execute_result"
    }
   ],
   "source": [
    "df.describe()"
   ]
  },
  {
   "cell_type": "markdown",
   "metadata": {},
   "source": [
    "* The dataset contains 569 rows and 33 columns "
   ]
  },
  {
   "cell_type": "markdown",
   "metadata": {},
   "source": [
    "## Data Pre-processing\n",
    "\n",
    "#### Data Preparation and Cleaning"
   ]
  },
  {
   "cell_type": "code",
   "execution_count": 39,
   "metadata": {},
   "outputs": [
    {
     "data": {
      "text/plain": [
       "id                           0\n",
       "diagnosis                    0\n",
       "radius_mean                  0\n",
       "texture_mean                 0\n",
       "perimeter_mean               0\n",
       "area_mean                    0\n",
       "smoothness_mean              0\n",
       "compactness_mean             0\n",
       "concavity_mean               0\n",
       "concave points_mean          0\n",
       "symmetry_mean                0\n",
       "fractal_dimension_mean       0\n",
       "radius_se                    0\n",
       "texture_se                   0\n",
       "perimeter_se                 0\n",
       "area_se                      0\n",
       "smoothness_se                0\n",
       "compactness_se               0\n",
       "concavity_se                 0\n",
       "concave points_se            0\n",
       "symmetry_se                  0\n",
       "fractal_dimension_se         0\n",
       "radius_worst                 0\n",
       "texture_worst                0\n",
       "perimeter_worst              0\n",
       "area_worst                   0\n",
       "smoothness_worst             0\n",
       "compactness_worst            0\n",
       "concavity_worst              0\n",
       "concave points_worst         0\n",
       "symmetry_worst               0\n",
       "fractal_dimension_worst      0\n",
       "Unnamed: 32                569\n",
       "dtype: int64"
      ]
     },
     "execution_count": 39,
     "metadata": {},
     "output_type": "execute_result"
    }
   ],
   "source": [
    "df.isnull().sum()"
   ]
  },
  {
   "cell_type": "markdown",
   "metadata": {},
   "source": [
    "* The column with 'ID' and the last column do not hold any information/no role in prediction and should be removed. "
   ]
  },
  {
   "cell_type": "code",
   "execution_count": 40,
   "metadata": {},
   "outputs": [
    {
     "data": {
      "text/plain": [
       "(569, 31)"
      ]
     },
     "execution_count": 40,
     "metadata": {},
     "output_type": "execute_result"
    }
   ],
   "source": [
    "df.drop(['Unnamed: 32', 'id'],axis=1,inplace=True)\n",
    "df.shape"
   ]
  },
  {
   "cell_type": "markdown",
   "metadata": {},
   "source": [
    "* In addition, the \"diagnosis\" - categorical column should be changed to a binary classification. Mapping diagnosis output 'Y' dependent variable ,  = 1 and  = 0"
   ]
  },
  {
   "cell_type": "code",
   "execution_count": 41,
   "metadata": {},
   "outputs": [
    {
     "data": {
      "text/plain": [
       "array(['M', 'B'], dtype=object)"
      ]
     },
     "execution_count": 41,
     "metadata": {},
     "output_type": "execute_result"
    }
   ],
   "source": [
    "df.diagnosis.unique()"
   ]
  },
  {
   "cell_type": "code",
   "execution_count": 42,
   "metadata": {},
   "outputs": [
    {
     "data": {
      "text/plain": [
       "array([1, 0])"
      ]
     },
     "execution_count": 42,
     "metadata": {},
     "output_type": "execute_result"
    }
   ],
   "source": [
    "df.diagnosis = [1 if each == \"M\" else 0 for each in df.diagnosis] \n",
    "df.diagnosis.unique()"
   ]
  },
  {
   "cell_type": "markdown",
   "metadata": {},
   "source": [
    "* There are two outcomes  1 : Malignant and 0 : Benign\n",
    "* Out of these 569 data points, 212 are labeled as 1 and 357 as 0"
   ]
  },
  {
   "cell_type": "code",
   "execution_count": 43,
   "metadata": {},
   "outputs": [
    {
     "name": "stdout",
     "output_type": "stream",
     "text": [
      "diagnosis\n",
      "0    357\n",
      "1    212\n",
      "dtype: int64\n"
     ]
    }
   ],
   "source": [
    "print(df.groupby('diagnosis').size())"
   ]
  },
  {
   "cell_type": "code",
   "execution_count": 44,
   "metadata": {},
   "outputs": [
    {
     "data": {
      "text/plain": [
       "<matplotlib.axes._subplots.AxesSubplot at 0x109b7d630>"
      ]
     },
     "execution_count": 44,
     "metadata": {},
     "output_type": "execute_result"
    },
    {
     "data": {
      "image/png": "[encoded data removed]",
      "text/plain": [
       "<Figure size 432x288 with 1 Axes>"
      ]
     },
     "metadata": {
      "needs_background": "light"
     },
     "output_type": "display_data"
    }
   ],
   "source": [
    "sns.countplot(x='diagnosis',data=df)"
   ]
  },
  {
   "cell_type": "code",
   "execution_count": 45,
   "metadata": {},
   "outputs": [
    {
     "data": {
      "text/plain": [
       "diagnosis                  0\n",
       "radius_mean                0\n",
       "texture_mean               0\n",
       "perimeter_mean             0\n",
       "area_mean                  0\n",
       "smoothness_mean            0\n",
       "compactness_mean           0\n",
       "concavity_mean             0\n",
       "concave points_mean        0\n",
       "symmetry_mean              0\n",
       "fractal_dimension_mean     0\n",
       "radius_se                  0\n",
       "texture_se                 0\n",
       "perimeter_se               0\n",
       "area_se                    0\n",
       "smoothness_se              0\n",
       "compactness_se             0\n",
       "concavity_se               0\n",
       "concave points_se          0\n",
       "symmetry_se                0\n",
       "fractal_dimension_se       0\n",
       "radius_worst               0\n",
       "texture_worst              0\n",
       "perimeter_worst            0\n",
       "area_worst                 0\n",
       "smoothness_worst           0\n",
       "compactness_worst          0\n",
       "concavity_worst            0\n",
       "concave points_worst       0\n",
       "symmetry_worst             0\n",
       "fractal_dimension_worst    0\n",
       "dtype: int64"
      ]
     },
     "execution_count": 45,
     "metadata": {},
     "output_type": "execute_result"
    }
   ],
   "source": [
    "df.isnull().sum()"
   ]
  },
  {
   "cell_type": "markdown",
   "metadata": {},
   "source": [
    "* No more missing values. Data is clean now."
   ]
  },
  {
   "cell_type": "markdown",
   "metadata": {},
   "source": [
    "### Data Vizualization"
   ]
  },
  {
   "cell_type": "code",
   "execution_count": 46,
   "metadata": {},
   "outputs": [
    {
     "data": {
      "text/plain": [
       "<seaborn.axisgrid.FacetGrid at 0x109b7d8d0>"
      ]
     },
     "execution_count": 46,
     "metadata": {},
     "output_type": "execute_result"
    },
    {
     "data": {
      "image/png": "[encoded data removed]",
      "text/plain": [
       "<Figure size 415.5x360 with 1 Axes>"
      ]
     },
     "metadata": {
      "needs_background": "light"
     },
     "output_type": "display_data"
    }
   ],
   "source": [
    "sns.lmplot(x = 'radius_mean', y = 'texture_mean', hue = 'diagnosis', data = df) "
   ]
  },
  {
   "cell_type": "code",
   "execution_count": 47,
   "metadata": {},
   "outputs": [
    {
     "data": {
      "text/plain": [
       "<seaborn.axisgrid.FacetGrid at 0x11992b4a8>"
      ]
     },
     "execution_count": 47,
     "metadata": {},
     "output_type": "execute_result"
    },
    {
     "data": {
      "image/png": "[encoded data removed]",
      "text/plain": [
       "<Figure size 415.5x360 with 1 Axes>"
      ]
     },
     "metadata": {
      "needs_background": "light"
     },
     "output_type": "display_data"
    }
   ],
   "source": [
    "sns.lmplot(x ='smoothness_mean', y = 'compactness_mean',  \n",
    "           data = df, hue = 'diagnosis') "
   ]
  },
  {
   "cell_type": "markdown",
   "metadata": {},
   "source": [
    "##### Heatmap with Pearson Correlation Coefficient for Features"
   ]
  },
  {
   "cell_type": "code",
   "execution_count": null,
   "metadata": {
    "scrolled": false
   },
   "outputs": [],
   "source": [
    "#fix,ax = plt.subplots(figsize=(25,25))\n",
    "fix,ax = plt.subplots(figsize=(22,22))\n",
    "heatmap_data = df\n",
    "sns.heatmap(heatmap_data.corr(),vmax=1,linewidths=0.01,square=True,annot=True,linecolor=\"white\")\n",
    "bottom,top=ax.get_ylim()\n",
    "ax.set_ylim(bottom+0.5,top-0.5)\n",
    "heatmap_title='Figure 1:  Heatmap with Pearson Correlation Coefficient for Features'\n",
    "ax.set_title(heatmap_title)\n",
    "plt.savefig('Figure1.Heatmap.png',dpi=300,bbox_inches='tight')\n",
    "plt.show()"
   ]
  },
  {
   "cell_type": "code",
   "execution_count": null,
   "metadata": {},
   "outputs": [],
   "source": [
    "#Dropping the Correlated Attributes with Correlation > .95\n",
    "\n",
    "\n",
    "corr = df.corr()\n",
    "columns = np.full((corr.shape[0],), True, dtype=bool)\n",
    "for i in range(corr.shape[0]):\n",
    "    for j in range(i+1, corr.shape[0]):\n",
    "        if corr.iloc[i,j] >= 0.95:\n",
    "            if columns[j]:\n",
    "                columns[j] = False\n",
    "selected_columns = df.columns[columns]\n",
    "df = df[selected_columns]"
   ]
  },
  {
   "cell_type": "code",
   "execution_count": null,
   "metadata": {
    "scrolled": true
   },
   "outputs": [],
   "source": [
    "#Displaying the Selected Columns after Co-relation\n",
    "\n",
    "print(selected_columns)"
   ]
  },
  {
   "cell_type": "code",
   "execution_count": null,
   "metadata": {
    "scrolled": true
   },
   "outputs": [],
   "source": [
    "#Displaying the Shape of the dataframe\n",
    "df.shape"
   ]
  },
  {
   "cell_type": "markdown",
   "metadata": {},
   "source": [
    "#### Split Data for Training : Standardize and Split the Data\n",
    "* Input and output data"
   ]
  },
  {
   "cell_type": "code",
   "execution_count": null,
   "metadata": {},
   "outputs": [],
   "source": [
    "y = df.diagnosis.values \n",
    "x_df = df.drop(['diagnosis'], axis = 1) "
   ]
  },
  {
   "cell_type": "code",
   "execution_count": null,
   "metadata": {},
   "outputs": [],
   "source": [
    "#Standardize Data\n",
    "scaler = StandardScaler()\n",
    "X=StandardScaler().fit_transform(x_df.values)\n",
    "X = pd.DataFrame(X)\n",
    "X.columns=x_df.columns"
   ]
  },
  {
   "cell_type": "markdown",
   "metadata": {},
   "source": [
    "### Splitting the data into train and test"
   ]
  },
  {
   "cell_type": "code",
   "execution_count": null,
   "metadata": {},
   "outputs": [],
   "source": [
    "X_train, X_test, y_train, y_test = train_test_split(X, y, test_size= 0.2, random_state= 42)"
   ]
  },
  {
   "cell_type": "code",
   "execution_count": null,
   "metadata": {},
   "outputs": [],
   "source": [
    "#Standardize Data\n",
    "scaler = StandardScaler()\n",
    "\n",
    "#Fit on training set only.\n",
    "scaler.fit(X_train)\n",
    "\n",
    "#Apply transform to both the training and test set\n",
    "X_train=scaler.transform(X_train)\n",
    "X_test=scaler.transform(X_test)"
   ]
  },
  {
   "cell_type": "markdown",
   "metadata": {},
   "source": [
    "### Split Data for Training: Feature Scaling with PCA"
   ]
  },
  {
   "cell_type": "code",
   "execution_count": 24,
   "metadata": {},
   "outputs": [],
   "source": [
    "#  Feature Extraction:  Principal Component Analysis: PC1, PC2\n",
    "pca = PCA(n_components=2, random_state=42) \n",
    "# Only fit to the training set\n",
    "pca.fit((X_train))\n",
    "# transform with PCA model from training\n",
    "principalComponents_train = pca.transform(X_train)\n",
    "principalComponents_test = pca.transform(X_test)\n",
    "\n",
    "# Use Pandas DataFrame\n",
    "X_train = pd.DataFrame(X_train)\n",
    "X_test=pd.DataFrame(X_test)\n",
    "X_train.columns=(df.drop(['diagnosis'], axis= 1)).columns\n",
    "X_test.columns=(df.drop(['diagnosis'], axis= 1)).columns\n",
    "y_train = pd.DataFrame(y_train)\n",
    "y_test=pd.DataFrame(y_test)\n",
    "\n",
    "X_train['PC1']=principalComponents_train[:,0]\n",
    "X_train['PC2']=principalComponents_train[:,1]\n",
    "X_test['PC1']=principalComponents_test[:,0]\n",
    "X_test['PC2']=principalComponents_test[:,1]"
   ]
  },
  {
   "cell_type": "markdown",
   "metadata": {},
   "source": [
    "#### Split Data for Training: Verify the Split"
   ]
  },
  {
   "cell_type": "code",
   "execution_count": 25,
   "metadata": {},
   "outputs": [
    {
     "name": "stdout",
     "output_type": "stream",
     "text": [
      "X_train - length: 455 y_train - length: 455\n",
      "X_test - length: 114 y_test - length: 114\n",
      "Percent heldout for testing: 20.0 %\n"
     ]
    }
   ],
   "source": [
    "print('X_train - length:',len(X_train), 'y_train - length:',len(y_train))\n",
    "print('X_test - length:',len(X_test),'y_test - length:',len(y_test))\n",
    "print('Percent heldout for testing:', round(100*(len(X_test)/len(df)),0),'%')"
   ]
  },
  {
   "cell_type": "markdown",
   "metadata": {},
   "source": [
    "## Data Modelling \n",
    "\n",
    "##### Machine Learning : Applying neural network model"
   ]
  },
  {
   "cell_type": "code",
   "execution_count": 26,
   "metadata": {},
   "outputs": [
    {
     "name": "stdout",
     "output_type": "stream",
     "text": [
      "Model: \"sequential_1\"\n",
      "_________________________________________________________________\n",
      "Layer (type)                 Output Shape              Param #   \n",
      "=================================================================\n",
      "dense_1 (Dense)              (None, 16)                416       \n",
      "_________________________________________________________________\n",
      "dropout_1 (Dropout)          (None, 16)                0         \n",
      "_________________________________________________________________\n",
      "dense_2 (Dense)              (None, 8)                 136       \n",
      "_________________________________________________________________\n",
      "dropout_2 (Dropout)          (None, 8)                 0         \n",
      "_________________________________________________________________\n",
      "dense_3 (Dense)              (None, 1)                 9         \n",
      "=================================================================\n",
      "Total params: 561\n",
      "Trainable params: 561\n",
      "Non-trainable params: 0\n",
      "_________________________________________________________________\n"
     ]
    }
   ],
   "source": [
    "# Initialising the ANN\n",
    "classifier = Sequential()\n",
    "\n",
    "# Adding the input layer and the first hidden layer\n",
    "#classifier.add(Dense(units = 30, kernel_initializer = 'uniform', activation = 'relu'))\n",
    "#classifier.add(Dropout(rate = 0.1))\n",
    "\n",
    "# Adding the second hidden layer\n",
    "classifier.add(Dense(units = 16, kernel_initializer = 'uniform', activation = 'relu', input_dim = 25))\n",
    "classifier.add(Dropout(rate = 0.1))\n",
    "\n",
    "# Adding the third hidden layer\n",
    "classifier.add(Dense(units = 8, kernel_initializer = 'uniform', activation = 'relu'))\n",
    "classifier.add(Dropout(rate = 0.1))\n",
    "\n",
    "\n",
    "# Adding the output layer\n",
    "classifier.add(Dense(units = 1, kernel_initializer = 'uniform', activation = 'sigmoid'))\n",
    "\n",
    "# Compiling the ANN\n",
    "classifier.compile(optimizer = 'adam', loss = 'binary_crossentropy', metrics = ['accuracy'])\n",
    "\n",
    "classifier.summary()"
   ]
  },
  {
   "cell_type": "code",
   "execution_count": 27,
   "metadata": {},
   "outputs": [
    {
     "name": "stdout",
     "output_type": "stream",
     "text": [
      "Train on 455 samples, validate on 114 samples\n",
      "Epoch 1/150\n",
      "455/455 [==============================] - 0s 457us/step - loss: 0.6928 - accuracy: 0.6198 - val_loss: 0.6921 - val_accuracy: 0.6404\n",
      "Epoch 2/150\n",
      "455/455 [==============================] - 0s 18us/step - loss: 0.6917 - accuracy: 0.6352 - val_loss: 0.6908 - val_accuracy: 0.6491\n",
      "Epoch 3/150\n",
      "455/455 [==============================] - 0s 18us/step - loss: 0.6903 - accuracy: 0.6484 - val_loss: 0.6890 - val_accuracy: 0.6667\n",
      "Epoch 4/150\n",
      "455/455 [==============================] - 0s 18us/step - loss: 0.6883 - accuracy: 0.6857 - val_loss: 0.6866 - val_accuracy: 0.7281\n",
      "Epoch 5/150\n",
      "455/455 [==============================] - 0s 23us/step - loss: 0.6856 - accuracy: 0.7385 - val_loss: 0.6831 - val_accuracy: 0.7895\n",
      "Epoch 6/150\n",
      "455/455 [==============================] - 0s 21us/step - loss: 0.6817 - accuracy: 0.8044 - val_loss: 0.6782 - val_accuracy: 0.8333\n",
      "Epoch 7/150\n",
      "455/455 [==============================] - 0s 19us/step - loss: 0.6762 - accuracy: 0.8593 - val_loss: 0.6715 - val_accuracy: 0.8947\n",
      "Epoch 8/150\n",
      "455/455 [==============================] - 0s 22us/step - loss: 0.6693 - accuracy: 0.8791 - val_loss: 0.6623 - val_accuracy: 0.9035\n",
      "Epoch 9/150\n",
      "455/455 [==============================] - 0s 20us/step - loss: 0.6586 - accuracy: 0.9121 - val_loss: 0.6504 - val_accuracy: 0.9123\n",
      "Epoch 10/150\n",
      "455/455 [==============================] - 0s 25us/step - loss: 0.6461 - accuracy: 0.9143 - val_loss: 0.6351 - val_accuracy: 0.9298\n",
      "Epoch 11/150\n",
      "455/455 [==============================] - 0s 24us/step - loss: 0.6293 - accuracy: 0.9099 - val_loss: 0.6160 - val_accuracy: 0.9474\n",
      "Epoch 12/150\n",
      "455/455 [==============================] - 0s 24us/step - loss: 0.6093 - accuracy: 0.9055 - val_loss: 0.5930 - val_accuracy: 0.9474\n",
      "Epoch 13/150\n",
      "455/455 [==============================] - 0s 25us/step - loss: 0.5853 - accuracy: 0.9143 - val_loss: 0.5660 - val_accuracy: 0.9474\n",
      "Epoch 14/150\n",
      "455/455 [==============================] - 0s 24us/step - loss: 0.5563 - accuracy: 0.9121 - val_loss: 0.5354 - val_accuracy: 0.9474\n",
      "Epoch 15/150\n",
      "455/455 [==============================] - 0s 25us/step - loss: 0.5303 - accuracy: 0.9121 - val_loss: 0.5021 - val_accuracy: 0.9474\n",
      "Epoch 16/150\n",
      "455/455 [==============================] - 0s 25us/step - loss: 0.4935 - accuracy: 0.9121 - val_loss: 0.4671 - val_accuracy: 0.9474\n",
      "Epoch 17/150\n",
      "455/455 [==============================] - 0s 24us/step - loss: 0.4538 - accuracy: 0.9099 - val_loss: 0.4316 - val_accuracy: 0.9474\n",
      "Epoch 18/150\n",
      "455/455 [==============================] - 0s 24us/step - loss: 0.4254 - accuracy: 0.9077 - val_loss: 0.3965 - val_accuracy: 0.9474\n",
      "Epoch 19/150\n",
      "455/455 [==============================] - 0s 27us/step - loss: 0.3966 - accuracy: 0.9143 - val_loss: 0.3631 - val_accuracy: 0.9561\n",
      "Epoch 20/150\n",
      "455/455 [==============================] - 0s 26us/step - loss: 0.3619 - accuracy: 0.9121 - val_loss: 0.3327 - val_accuracy: 0.9561\n",
      "Epoch 21/150\n",
      "455/455 [==============================] - 0s 24us/step - loss: 0.3284 - accuracy: 0.9143 - val_loss: 0.3048 - val_accuracy: 0.9561\n",
      "Epoch 22/150\n",
      "455/455 [==============================] - 0s 25us/step - loss: 0.3080 - accuracy: 0.9231 - val_loss: 0.2797 - val_accuracy: 0.9561\n",
      "Epoch 23/150\n",
      "455/455 [==============================] - 0s 23us/step - loss: 0.2855 - accuracy: 0.9253 - val_loss: 0.2576 - val_accuracy: 0.9561\n",
      "Epoch 24/150\n",
      "455/455 [==============================] - 0s 27us/step - loss: 0.2644 - accuracy: 0.9275 - val_loss: 0.2386 - val_accuracy: 0.9561\n",
      "Epoch 25/150\n",
      "455/455 [==============================] - 0s 24us/step - loss: 0.2457 - accuracy: 0.9363 - val_loss: 0.2222 - val_accuracy: 0.9561\n",
      "Epoch 26/150\n",
      "455/455 [==============================] - 0s 23us/step - loss: 0.2301 - accuracy: 0.9407 - val_loss: 0.2083 - val_accuracy: 0.9561\n",
      "Epoch 27/150\n",
      "455/455 [==============================] - 0s 26us/step - loss: 0.2223 - accuracy: 0.9407 - val_loss: 0.1960 - val_accuracy: 0.9561\n",
      "Epoch 28/150\n",
      "455/455 [==============================] - 0s 24us/step - loss: 0.2038 - accuracy: 0.9495 - val_loss: 0.1856 - val_accuracy: 0.9561\n",
      "Epoch 29/150\n",
      "455/455 [==============================] - 0s 25us/step - loss: 0.2002 - accuracy: 0.9429 - val_loss: 0.1764 - val_accuracy: 0.9561\n",
      "Epoch 30/150\n",
      "455/455 [==============================] - 0s 26us/step - loss: 0.1854 - accuracy: 0.9473 - val_loss: 0.1683 - val_accuracy: 0.9561\n",
      "Epoch 31/150\n",
      "455/455 [==============================] - 0s 24us/step - loss: 0.1808 - accuracy: 0.9473 - val_loss: 0.1611 - val_accuracy: 0.9561\n",
      "Epoch 32/150\n",
      "455/455 [==============================] - 0s 22us/step - loss: 0.1715 - accuracy: 0.9582 - val_loss: 0.1548 - val_accuracy: 0.9474\n",
      "Epoch 33/150\n",
      "455/455 [==============================] - 0s 23us/step - loss: 0.1677 - accuracy: 0.9538 - val_loss: 0.1494 - val_accuracy: 0.9474\n",
      "Epoch 34/150\n",
      "455/455 [==============================] - 0s 27us/step - loss: 0.1539 - accuracy: 0.9582 - val_loss: 0.1445 - val_accuracy: 0.9474\n",
      "Epoch 35/150\n",
      "455/455 [==============================] - 0s 30us/step - loss: 0.1549 - accuracy: 0.9516 - val_loss: 0.1403 - val_accuracy: 0.9474\n",
      "Epoch 36/150\n",
      "455/455 [==============================] - 0s 26us/step - loss: 0.1451 - accuracy: 0.9604 - val_loss: 0.1365 - val_accuracy: 0.9474\n",
      "Epoch 37/150\n",
      "455/455 [==============================] - 0s 27us/step - loss: 0.1469 - accuracy: 0.9560 - val_loss: 0.1333 - val_accuracy: 0.9474\n",
      "Epoch 38/150\n",
      "455/455 [==============================] - 0s 26us/step - loss: 0.1498 - accuracy: 0.9538 - val_loss: 0.1306 - val_accuracy: 0.9561\n",
      "Epoch 39/150\n",
      "455/455 [==============================] - 0s 24us/step - loss: 0.1458 - accuracy: 0.9582 - val_loss: 0.1279 - val_accuracy: 0.9561\n",
      "Epoch 40/150\n",
      "455/455 [==============================] - 0s 26us/step - loss: 0.1320 - accuracy: 0.9582 - val_loss: 0.1254 - val_accuracy: 0.9561\n",
      "Epoch 41/150\n",
      "455/455 [==============================] - 0s 22us/step - loss: 0.1311 - accuracy: 0.9670 - val_loss: 0.1234 - val_accuracy: 0.9561\n",
      "Epoch 42/150\n",
      "455/455 [==============================] - 0s 27us/step - loss: 0.1275 - accuracy: 0.9582 - val_loss: 0.1213 - val_accuracy: 0.9561\n",
      "Epoch 43/150\n",
      "455/455 [==============================] - 0s 25us/step - loss: 0.1305 - accuracy: 0.9560 - val_loss: 0.1194 - val_accuracy: 0.9561\n",
      "Epoch 44/150\n",
      "455/455 [==============================] - 0s 22us/step - loss: 0.1166 - accuracy: 0.9670 - val_loss: 0.1175 - val_accuracy: 0.9561\n",
      "Epoch 45/150\n",
      "455/455 [==============================] - 0s 22us/step - loss: 0.1162 - accuracy: 0.9736 - val_loss: 0.1153 - val_accuracy: 0.9561\n",
      "Epoch 46/150\n",
      "455/455 [==============================] - 0s 20us/step - loss: 0.1110 - accuracy: 0.9626 - val_loss: 0.1132 - val_accuracy: 0.9561\n",
      "Epoch 47/150\n",
      "455/455 [==============================] - 0s 22us/step - loss: 0.1157 - accuracy: 0.9648 - val_loss: 0.1114 - val_accuracy: 0.9561\n",
      "Epoch 48/150\n",
      "455/455 [==============================] - 0s 20us/step - loss: 0.1082 - accuracy: 0.9714 - val_loss: 0.1094 - val_accuracy: 0.9561\n",
      "Epoch 49/150\n",
      "455/455 [==============================] - 0s 23us/step - loss: 0.1174 - accuracy: 0.9670 - val_loss: 0.1077 - val_accuracy: 0.9561\n",
      "Epoch 50/150\n",
      "455/455 [==============================] - 0s 22us/step - loss: 0.1192 - accuracy: 0.9670 - val_loss: 0.1062 - val_accuracy: 0.9561\n",
      "Epoch 51/150\n",
      "455/455 [==============================] - 0s 23us/step - loss: 0.1022 - accuracy: 0.9714 - val_loss: 0.1047 - val_accuracy: 0.9561\n",
      "Epoch 52/150\n",
      "455/455 [==============================] - 0s 25us/step - loss: 0.1073 - accuracy: 0.9670 - val_loss: 0.1036 - val_accuracy: 0.9561\n",
      "Epoch 53/150\n",
      "455/455 [==============================] - 0s 23us/step - loss: 0.1065 - accuracy: 0.9670 - val_loss: 0.1027 - val_accuracy: 0.9561\n",
      "Epoch 54/150\n",
      "455/455 [==============================] - 0s 20us/step - loss: 0.1014 - accuracy: 0.9736 - val_loss: 0.1015 - val_accuracy: 0.9561\n",
      "Epoch 55/150\n",
      "455/455 [==============================] - 0s 24us/step - loss: 0.0945 - accuracy: 0.9692 - val_loss: 0.1003 - val_accuracy: 0.9561\n",
      "Epoch 56/150\n",
      "455/455 [==============================] - 0s 25us/step - loss: 0.1084 - accuracy: 0.9714 - val_loss: 0.0994 - val_accuracy: 0.9561\n",
      "Epoch 57/150\n"
     ]
    },
    {
     "name": "stdout",
     "output_type": "stream",
     "text": [
      "455/455 [==============================] - 0s 20us/step - loss: 0.0931 - accuracy: 0.9736 - val_loss: 0.0980 - val_accuracy: 0.9561\n",
      "Epoch 58/150\n",
      "455/455 [==============================] - 0s 20us/step - loss: 0.1005 - accuracy: 0.9714 - val_loss: 0.0963 - val_accuracy: 0.9561\n",
      "Epoch 59/150\n",
      "455/455 [==============================] - 0s 17us/step - loss: 0.0903 - accuracy: 0.9758 - val_loss: 0.0948 - val_accuracy: 0.9561\n",
      "Epoch 60/150\n",
      "455/455 [==============================] - 0s 19us/step - loss: 0.0933 - accuracy: 0.9758 - val_loss: 0.0937 - val_accuracy: 0.9561\n",
      "Epoch 61/150\n",
      "455/455 [==============================] - 0s 21us/step - loss: 0.0929 - accuracy: 0.9736 - val_loss: 0.0930 - val_accuracy: 0.9561\n",
      "Epoch 62/150\n",
      "455/455 [==============================] - 0s 18us/step - loss: 0.0977 - accuracy: 0.9736 - val_loss: 0.0925 - val_accuracy: 0.9561\n",
      "Epoch 63/150\n",
      "455/455 [==============================] - 0s 19us/step - loss: 0.0894 - accuracy: 0.9736 - val_loss: 0.0921 - val_accuracy: 0.9561\n",
      "Epoch 64/150\n",
      "455/455 [==============================] - 0s 19us/step - loss: 0.0823 - accuracy: 0.9670 - val_loss: 0.0918 - val_accuracy: 0.9561\n",
      "Epoch 65/150\n",
      "455/455 [==============================] - 0s 19us/step - loss: 0.0839 - accuracy: 0.9736 - val_loss: 0.0916 - val_accuracy: 0.9561\n",
      "Epoch 66/150\n",
      "455/455 [==============================] - 0s 17us/step - loss: 0.0864 - accuracy: 0.9736 - val_loss: 0.0910 - val_accuracy: 0.9561\n",
      "Epoch 67/150\n",
      "455/455 [==============================] - 0s 18us/step - loss: 0.0840 - accuracy: 0.9736 - val_loss: 0.0899 - val_accuracy: 0.9561\n",
      "Epoch 68/150\n",
      "455/455 [==============================] - 0s 23us/step - loss: 0.0877 - accuracy: 0.9714 - val_loss: 0.0888 - val_accuracy: 0.9561\n",
      "Epoch 69/150\n",
      "455/455 [==============================] - 0s 20us/step - loss: 0.0824 - accuracy: 0.9780 - val_loss: 0.0879 - val_accuracy: 0.9561\n",
      "Epoch 70/150\n",
      "455/455 [==============================] - 0s 23us/step - loss: 0.0789 - accuracy: 0.9758 - val_loss: 0.0871 - val_accuracy: 0.9561\n",
      "Epoch 71/150\n",
      "455/455 [==============================] - 0s 21us/step - loss: 0.0902 - accuracy: 0.9714 - val_loss: 0.0859 - val_accuracy: 0.9561\n",
      "Epoch 72/150\n",
      "455/455 [==============================] - 0s 20us/step - loss: 0.0895 - accuracy: 0.9714 - val_loss: 0.0851 - val_accuracy: 0.9561\n",
      "Epoch 73/150\n",
      "455/455 [==============================] - 0s 20us/step - loss: 0.0853 - accuracy: 0.9758 - val_loss: 0.0847 - val_accuracy: 0.9561\n",
      "Epoch 74/150\n",
      "455/455 [==============================] - 0s 25us/step - loss: 0.0809 - accuracy: 0.9758 - val_loss: 0.0841 - val_accuracy: 0.9561\n",
      "Epoch 75/150\n",
      "455/455 [==============================] - 0s 19us/step - loss: 0.0796 - accuracy: 0.9758 - val_loss: 0.0836 - val_accuracy: 0.9649\n",
      "Epoch 76/150\n",
      "455/455 [==============================] - 0s 22us/step - loss: 0.0732 - accuracy: 0.9736 - val_loss: 0.0831 - val_accuracy: 0.9649\n",
      "Epoch 77/150\n",
      "455/455 [==============================] - 0s 24us/step - loss: 0.0757 - accuracy: 0.9736 - val_loss: 0.0831 - val_accuracy: 0.9649\n",
      "Epoch 78/150\n",
      "455/455 [==============================] - 0s 19us/step - loss: 0.0811 - accuracy: 0.9758 - val_loss: 0.0829 - val_accuracy: 0.9649\n",
      "Epoch 79/150\n",
      "455/455 [==============================] - 0s 24us/step - loss: 0.0759 - accuracy: 0.9736 - val_loss: 0.0823 - val_accuracy: 0.9649\n",
      "Epoch 80/150\n",
      "455/455 [==============================] - 0s 25us/step - loss: 0.0802 - accuracy: 0.9758 - val_loss: 0.0814 - val_accuracy: 0.9737\n",
      "Epoch 81/150\n",
      "455/455 [==============================] - 0s 18us/step - loss: 0.0747 - accuracy: 0.9758 - val_loss: 0.0807 - val_accuracy: 0.9737\n",
      "Epoch 82/150\n",
      "455/455 [==============================] - 0s 20us/step - loss: 0.0786 - accuracy: 0.9736 - val_loss: 0.0801 - val_accuracy: 0.9737\n",
      "Epoch 83/150\n",
      "455/455 [==============================] - 0s 20us/step - loss: 0.0733 - accuracy: 0.9714 - val_loss: 0.0798 - val_accuracy: 0.9737\n",
      "Epoch 84/150\n",
      "455/455 [==============================] - 0s 18us/step - loss: 0.0711 - accuracy: 0.9758 - val_loss: 0.0793 - val_accuracy: 0.9737\n",
      "Epoch 85/150\n",
      "455/455 [==============================] - 0s 19us/step - loss: 0.0718 - accuracy: 0.9780 - val_loss: 0.0792 - val_accuracy: 0.9737\n",
      "Epoch 86/150\n",
      "455/455 [==============================] - 0s 19us/step - loss: 0.0721 - accuracy: 0.9758 - val_loss: 0.0789 - val_accuracy: 0.9737\n",
      "Epoch 87/150\n",
      "455/455 [==============================] - 0s 20us/step - loss: 0.0738 - accuracy: 0.9780 - val_loss: 0.0786 - val_accuracy: 0.9737\n",
      "Epoch 88/150\n",
      "455/455 [==============================] - 0s 19us/step - loss: 0.0720 - accuracy: 0.9736 - val_loss: 0.0786 - val_accuracy: 0.9737\n",
      "Epoch 89/150\n",
      "455/455 [==============================] - 0s 20us/step - loss: 0.0654 - accuracy: 0.9802 - val_loss: 0.0782 - val_accuracy: 0.9737\n",
      "Epoch 90/150\n",
      "455/455 [==============================] - 0s 18us/step - loss: 0.0707 - accuracy: 0.9824 - val_loss: 0.0778 - val_accuracy: 0.9737\n",
      "Epoch 91/150\n",
      "455/455 [==============================] - 0s 18us/step - loss: 0.0648 - accuracy: 0.9780 - val_loss: 0.0777 - val_accuracy: 0.9737\n",
      "Epoch 92/150\n",
      "455/455 [==============================] - 0s 19us/step - loss: 0.0700 - accuracy: 0.9758 - val_loss: 0.0775 - val_accuracy: 0.9737\n",
      "Epoch 93/150\n",
      "455/455 [==============================] - 0s 17us/step - loss: 0.0775 - accuracy: 0.9758 - val_loss: 0.0771 - val_accuracy: 0.9737\n",
      "Epoch 94/150\n",
      "455/455 [==============================] - 0s 18us/step - loss: 0.0642 - accuracy: 0.9802 - val_loss: 0.0769 - val_accuracy: 0.9737\n",
      "Epoch 95/150\n",
      "455/455 [==============================] - 0s 17us/step - loss: 0.0699 - accuracy: 0.9824 - val_loss: 0.0768 - val_accuracy: 0.9737\n",
      "Epoch 96/150\n",
      "455/455 [==============================] - 0s 19us/step - loss: 0.0666 - accuracy: 0.9758 - val_loss: 0.0766 - val_accuracy: 0.9737\n",
      "Epoch 97/150\n",
      "455/455 [==============================] - 0s 18us/step - loss: 0.0724 - accuracy: 0.9780 - val_loss: 0.0761 - val_accuracy: 0.9737\n",
      "Epoch 98/150\n",
      "455/455 [==============================] - 0s 18us/step - loss: 0.0676 - accuracy: 0.9802 - val_loss: 0.0761 - val_accuracy: 0.9737\n",
      "Epoch 99/150\n",
      "455/455 [==============================] - 0s 18us/step - loss: 0.0637 - accuracy: 0.9780 - val_loss: 0.0757 - val_accuracy: 0.9737\n",
      "Epoch 100/150\n",
      "455/455 [==============================] - 0s 17us/step - loss: 0.0683 - accuracy: 0.9780 - val_loss: 0.0757 - val_accuracy: 0.9737\n",
      "Epoch 101/150\n",
      "455/455 [==============================] - 0s 18us/step - loss: 0.0664 - accuracy: 0.9758 - val_loss: 0.0757 - val_accuracy: 0.9737\n",
      "Epoch 102/150\n",
      "455/455 [==============================] - 0s 17us/step - loss: 0.0635 - accuracy: 0.9802 - val_loss: 0.0752 - val_accuracy: 0.9737\n",
      "Epoch 103/150\n",
      "455/455 [==============================] - 0s 19us/step - loss: 0.0601 - accuracy: 0.9824 - val_loss: 0.0749 - val_accuracy: 0.9737\n",
      "Epoch 104/150\n",
      "455/455 [==============================] - 0s 18us/step - loss: 0.0609 - accuracy: 0.9802 - val_loss: 0.0744 - val_accuracy: 0.9737\n",
      "Epoch 105/150\n",
      "455/455 [==============================] - 0s 19us/step - loss: 0.0587 - accuracy: 0.9780 - val_loss: 0.0739 - val_accuracy: 0.9737\n",
      "Epoch 106/150\n",
      "455/455 [==============================] - 0s 18us/step - loss: 0.0601 - accuracy: 0.9824 - val_loss: 0.0737 - val_accuracy: 0.9737\n",
      "Epoch 107/150\n",
      "455/455 [==============================] - 0s 18us/step - loss: 0.0574 - accuracy: 0.9802 - val_loss: 0.0736 - val_accuracy: 0.9737\n",
      "Epoch 108/150\n",
      "455/455 [==============================] - 0s 19us/step - loss: 0.0642 - accuracy: 0.9758 - val_loss: 0.0735 - val_accuracy: 0.9737\n",
      "Epoch 109/150\n",
      "455/455 [==============================] - 0s 18us/step - loss: 0.0648 - accuracy: 0.9780 - val_loss: 0.0734 - val_accuracy: 0.9737\n",
      "Epoch 110/150\n",
      "455/455 [==============================] - 0s 19us/step - loss: 0.0614 - accuracy: 0.9802 - val_loss: 0.0730 - val_accuracy: 0.9737\n",
      "Epoch 111/150\n",
      "455/455 [==============================] - 0s 17us/step - loss: 0.0608 - accuracy: 0.9780 - val_loss: 0.0729 - val_accuracy: 0.9737\n",
      "Epoch 112/150\n",
      "455/455 [==============================] - 0s 18us/step - loss: 0.0626 - accuracy: 0.9780 - val_loss: 0.0729 - val_accuracy: 0.9737\n",
      "Epoch 113/150\n"
     ]
    },
    {
     "name": "stdout",
     "output_type": "stream",
     "text": [
      "455/455 [==============================] - 0s 17us/step - loss: 0.0632 - accuracy: 0.9758 - val_loss: 0.0730 - val_accuracy: 0.9737\n",
      "Epoch 114/150\n",
      "455/455 [==============================] - 0s 17us/step - loss: 0.0578 - accuracy: 0.9846 - val_loss: 0.0729 - val_accuracy: 0.9737\n",
      "Epoch 115/150\n",
      "455/455 [==============================] - 0s 19us/step - loss: 0.0583 - accuracy: 0.9824 - val_loss: 0.0729 - val_accuracy: 0.9737\n",
      "Epoch 116/150\n",
      "455/455 [==============================] - 0s 19us/step - loss: 0.0619 - accuracy: 0.9780 - val_loss: 0.0730 - val_accuracy: 0.9737\n",
      "Epoch 117/150\n",
      "455/455 [==============================] - 0s 19us/step - loss: 0.0619 - accuracy: 0.9824 - val_loss: 0.0729 - val_accuracy: 0.9737\n",
      "Epoch 118/150\n",
      "455/455 [==============================] - 0s 18us/step - loss: 0.0580 - accuracy: 0.9824 - val_loss: 0.0731 - val_accuracy: 0.9737\n",
      "Epoch 119/150\n",
      "455/455 [==============================] - 0s 20us/step - loss: 0.0551 - accuracy: 0.9846 - val_loss: 0.0730 - val_accuracy: 0.9737\n",
      "Epoch 120/150\n",
      "455/455 [==============================] - 0s 19us/step - loss: 0.0579 - accuracy: 0.9802 - val_loss: 0.0726 - val_accuracy: 0.9737\n",
      "Epoch 121/150\n",
      "455/455 [==============================] - 0s 18us/step - loss: 0.0540 - accuracy: 0.9802 - val_loss: 0.0724 - val_accuracy: 0.9737\n",
      "Epoch 122/150\n",
      "455/455 [==============================] - 0s 19us/step - loss: 0.0501 - accuracy: 0.9846 - val_loss: 0.0722 - val_accuracy: 0.9737\n",
      "Epoch 123/150\n",
      "455/455 [==============================] - 0s 17us/step - loss: 0.0514 - accuracy: 0.9846 - val_loss: 0.0723 - val_accuracy: 0.9737\n",
      "Epoch 124/150\n",
      "455/455 [==============================] - 0s 20us/step - loss: 0.0538 - accuracy: 0.9802 - val_loss: 0.0724 - val_accuracy: 0.9737\n",
      "Epoch 125/150\n",
      "455/455 [==============================] - 0s 17us/step - loss: 0.0533 - accuracy: 0.9824 - val_loss: 0.0727 - val_accuracy: 0.9737\n",
      "Epoch 126/150\n",
      "455/455 [==============================] - 0s 19us/step - loss: 0.0565 - accuracy: 0.9846 - val_loss: 0.0729 - val_accuracy: 0.9737\n",
      "Epoch 127/150\n",
      "455/455 [==============================] - 0s 19us/step - loss: 0.0502 - accuracy: 0.9824 - val_loss: 0.0733 - val_accuracy: 0.9737\n",
      "Epoch 128/150\n",
      "455/455 [==============================] - 0s 18us/step - loss: 0.0567 - accuracy: 0.9846 - val_loss: 0.0736 - val_accuracy: 0.9737\n",
      "Epoch 129/150\n",
      "455/455 [==============================] - 0s 19us/step - loss: 0.0559 - accuracy: 0.9824 - val_loss: 0.0737 - val_accuracy: 0.9737\n",
      "Epoch 130/150\n",
      "455/455 [==============================] - 0s 17us/step - loss: 0.0552 - accuracy: 0.9846 - val_loss: 0.0738 - val_accuracy: 0.9737\n",
      "Epoch 131/150\n",
      "455/455 [==============================] - 0s 20us/step - loss: 0.0466 - accuracy: 0.9846 - val_loss: 0.0736 - val_accuracy: 0.9737\n",
      "Epoch 132/150\n",
      "455/455 [==============================] - 0s 18us/step - loss: 0.0473 - accuracy: 0.9846 - val_loss: 0.0733 - val_accuracy: 0.9737\n",
      "Epoch 133/150\n",
      "455/455 [==============================] - 0s 18us/step - loss: 0.0518 - accuracy: 0.9824 - val_loss: 0.0730 - val_accuracy: 0.9737\n",
      "Epoch 134/150\n",
      "455/455 [==============================] - 0s 19us/step - loss: 0.0549 - accuracy: 0.9824 - val_loss: 0.0726 - val_accuracy: 0.9737\n",
      "Epoch 135/150\n",
      "455/455 [==============================] - 0s 17us/step - loss: 0.0577 - accuracy: 0.9846 - val_loss: 0.0732 - val_accuracy: 0.9737\n",
      "Epoch 136/150\n",
      "455/455 [==============================] - 0s 20us/step - loss: 0.0510 - accuracy: 0.9846 - val_loss: 0.0738 - val_accuracy: 0.9737\n",
      "Epoch 137/150\n",
      "455/455 [==============================] - 0s 17us/step - loss: 0.0533 - accuracy: 0.9824 - val_loss: 0.0746 - val_accuracy: 0.9737\n",
      "Epoch 138/150\n",
      "455/455 [==============================] - 0s 20us/step - loss: 0.0514 - accuracy: 0.9824 - val_loss: 0.0748 - val_accuracy: 0.9737\n",
      "Epoch 139/150\n",
      "455/455 [==============================] - 0s 20us/step - loss: 0.0489 - accuracy: 0.9846 - val_loss: 0.0760 - val_accuracy: 0.9737\n",
      "Epoch 140/150\n",
      "455/455 [==============================] - 0s 18us/step - loss: 0.0489 - accuracy: 0.9846 - val_loss: 0.0768 - val_accuracy: 0.9737\n",
      "Epoch 141/150\n",
      "455/455 [==============================] - 0s 19us/step - loss: 0.0514 - accuracy: 0.9824 - val_loss: 0.0771 - val_accuracy: 0.9737\n",
      "Epoch 142/150\n",
      "455/455 [==============================] - 0s 20us/step - loss: 0.0517 - accuracy: 0.9846 - val_loss: 0.0766 - val_accuracy: 0.9737\n",
      "Epoch 143/150\n",
      "455/455 [==============================] - 0s 21us/step - loss: 0.0431 - accuracy: 0.9846 - val_loss: 0.0762 - val_accuracy: 0.9737\n",
      "Epoch 144/150\n",
      "455/455 [==============================] - 0s 20us/step - loss: 0.0474 - accuracy: 0.9846 - val_loss: 0.0759 - val_accuracy: 0.9737\n",
      "Epoch 145/150\n",
      "455/455 [==============================] - 0s 19us/step - loss: 0.0476 - accuracy: 0.9890 - val_loss: 0.0759 - val_accuracy: 0.9737\n",
      "Epoch 146/150\n",
      "455/455 [==============================] - 0s 20us/step - loss: 0.0487 - accuracy: 0.9824 - val_loss: 0.0756 - val_accuracy: 0.9737\n",
      "Epoch 147/150\n",
      "455/455 [==============================] - 0s 20us/step - loss: 0.0435 - accuracy: 0.9846 - val_loss: 0.0754 - val_accuracy: 0.9737\n",
      "Epoch 148/150\n",
      "455/455 [==============================] - 0s 19us/step - loss: 0.0432 - accuracy: 0.9846 - val_loss: 0.0756 - val_accuracy: 0.9737\n",
      "Epoch 149/150\n",
      "455/455 [==============================] - 0s 22us/step - loss: 0.0475 - accuracy: 0.9868 - val_loss: 0.0763 - val_accuracy: 0.9737\n",
      "Epoch 150/150\n",
      "455/455 [==============================] - 0s 19us/step - loss: 0.0454 - accuracy: 0.9890 - val_loss: 0.0762 - val_accuracy: 0.9737\n"
     ]
    },
    {
     "data": {
      "text/plain": [
       "<keras.callbacks.callbacks.History at 0x109b57f60>"
      ]
     },
     "execution_count": 27,
     "metadata": {},
     "output_type": "execute_result"
    }
   ],
   "source": [
    "classifier.fit(X_train, y_train, validation_data=(X_test,y_test),batch_size=100, epochs=150)"
   ]
  },
  {
   "cell_type": "code",
   "execution_count": 28,
   "metadata": {},
   "outputs": [],
   "source": [
    "# Predicting the Test set results\n",
    "y_pred = classifier.predict(X_test)\n",
    "y_pred = (y_pred > 0.5)"
   ]
  },
  {
   "cell_type": "code",
   "execution_count": 29,
   "metadata": {},
   "outputs": [],
   "source": [
    "# Making the Confusion Matrix\n",
    "cm = confusion_matrix(y_test, y_pred)"
   ]
  },
  {
   "cell_type": "code",
   "execution_count": 30,
   "metadata": {},
   "outputs": [
    {
     "name": "stdout",
     "output_type": "stream",
     "text": [
      "[[69  2]\n",
      " [ 1 42]]\n"
     ]
    }
   ],
   "source": [
    "print(cm)"
   ]
  },
  {
   "cell_type": "code",
   "execution_count": 31,
   "metadata": {},
   "outputs": [
    {
     "name": "stdout",
     "output_type": "stream",
     "text": [
      "Accuracy: 97.36842105263158%\n",
      "Precision is:0.95\n",
      "Recall is:0.98\n",
      "F1 score is:0.97\n"
     ]
    }
   ],
   "source": [
    "accuracy = (cm[0][0]+cm[1][1])/(cm[0][0]+cm[0][1]+cm[1][0]+cm[1][1])\n",
    "print(\"Accuracy: \"+ str(accuracy*100)+\"%\")\n",
    "print('Precision is:'+str(round(precision_score(y_test, y_pred),2)))\n",
    "print('Recall is:'+str(round(recall_score(y_test, y_pred, average='binary'),2)))\n",
    "print('F1 score is:'+str(round(f1_score(y_test, y_pred, average='binary'),2)))\n"
   ]
  },
  {
   "cell_type": "code",
   "execution_count": 32,
   "metadata": {
    "scrolled": true
   },
   "outputs": [
    {
     "data": {
      "text/plain": [
       "<matplotlib.axes._subplots.AxesSubplot at 0x1215abda0>"
      ]
     },
     "execution_count": 32,
     "metadata": {},
     "output_type": "execute_result"
    },
    {
     "data": {
      "image/png": "[encoded data removed]",
      "text/plain": [
       "<Figure size 432x288 with 2 Axes>"
      ]
     },
     "metadata": {
      "needs_background": "light"
     },
     "output_type": "display_data"
    }
   ],
   "source": [
    "sns.heatmap(cm,annot=True)"
   ]
  },
  {
   "cell_type": "code",
   "execution_count": 33,
   "metadata": {},
   "outputs": [
    {
     "data": {
      "text/plain": [
       "<matplotlib.axes._subplots.AxesSubplot at 0x131a79518>"
      ]
     },
     "execution_count": 33,
     "metadata": {},
     "output_type": "execute_result"
    },
    {
     "data": {
      "image/png": "[encoded data removed]",
      "text/plain": [
       "<Figure size 432x288 with 2 Axes>"
      ]
     },
     "metadata": {
      "needs_background": "light"
     },
     "output_type": "display_data"
    }
   ],
   "source": [
    "group_names = [\"True Neg\",\"False Pos\",\"False Neg\",\"True Pos\"]\n",
    "group_counts = ['{0:0.0f}'.format(value) for value in\n",
    "                cm.flatten()]\n",
    "group_percentages = ['{0:.2%}'.format(value) for value in\n",
    "                     cm.flatten()/np.sum(cm)]\n",
    "labels = [f'{v1}\\n{v2}\\n{v3}' for v1, v2, v3 in\n",
    "          zip(group_names,group_counts,group_percentages)]\n",
    "labels = np.asarray(labels).reshape(2,2)\n",
    "sns.heatmap(cm, annot=labels, fmt=\"\", cmap='Blues')"
   ]
  }
 ],
 "metadata": {
  "kernelspec": {
   "display_name": "Python 3",
   "language": "python",
   "name": "python3"
  },
  "language_info": {
   "codemirror_mode": {
    "name": "ipython",
    "version": 3
   },
   "file_extension": ".py",
   "mimetype": "text/x-python",
   "name": "python",
   "nbconvert_exporter": "python",
   "pygments_lexer": "ipython3",
   "version": "3.6.4"
  }
 },
 "nbformat": 4,
 "nbformat_minor": 2
}
